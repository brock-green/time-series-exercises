{
 "cells": [
  {
   "cell_type": "markdown",
   "metadata": {},
   "source": [
    "# Time Series Analysis: Exercises\n",
    "<hr style=\"border:2px solid black\">"
   ]
  },
  {
   "cell_type": "markdown",
   "metadata": {},
   "source": [
    "### 1. Using the code from the lesson as a guide and the REST API from https://swapi.dev/ as we did in the lesson, create a dataframe named people that has all of the data for people.\n"
   ]
  },
  {
   "cell_type": "code",
   "execution_count": 67,
   "metadata": {},
   "outputs": [],
   "source": [
    "import requests"
   ]
  },
  {
   "cell_type": "code",
   "execution_count": 68,
   "metadata": {},
   "outputs": [],
   "source": [
    "response = requests.get('https://swapi.dev/api/people/')\n",
    "data = response.json()"
   ]
  },
  {
   "cell_type": "code",
   "execution_count": null,
   "metadata": {},
   "outputs": [
    {
     "data": {
      "text/plain": [
       "82"
      ]
     },
     "execution_count": 57,
     "metadata": {},
     "output_type": "execute_result"
    }
   ],
   "source": [
    "data['count']"
   ]
  },
  {
   "cell_type": "code",
   "execution_count": null,
   "metadata": {},
   "outputs": [
    {
     "name": "stdout",
     "output_type": "stream",
     "text": [
      "number_of_people: 82\n",
      "next_page: https://swapi.dev/api/people/?page=3\n",
      "previous_page: https://swapi.dev/api/people/?page=1\n"
     ]
    }
   ],
   "source": [
    "number_of_people = data['count']\n",
    "next_page = data['next']\n",
    "previous_page = data['previous']\n",
    "\n",
    "print(f'number_of_people: {number_of_people}')\n",
    "print(f'next_page: {next_page}')\n",
    "print(f'previous_page: {previous_page}')"
   ]
  },
  {
   "cell_type": "code",
   "execution_count": null,
   "metadata": {},
   "outputs": [
    {
     "name": "stdout",
     "output_type": "stream",
     "text": [
      "number_of_results: 10\n",
      "max_page: 9\n"
     ]
    }
   ],
   "source": [
    "import math\n",
    "\n",
    "number_of_results = len(data['results'])\n",
    "max_page = math.ceil(number_of_people / number_of_results)\n",
    "\n",
    "print(f'number_of_results: {number_of_results}')\n",
    "print(f'max_page: {max_page}')"
   ]
  },
  {
   "cell_type": "code",
   "execution_count": null,
   "metadata": {},
   "outputs": [],
   "source": [
    "import pandas as pd\n",
    "\n",
    "people = pd.DataFrame(data['results'])\n",
    "\n",
    "response = requests.get(data['next'])\n",
    "data = response.json()\n",
    "people = pd.concat([people, pd.DataFrame(data['results'])]).reset_index()\n",
    "\n",
    "response = requests.get(data['next'])\n",
    "data = response.json()\n",
    "people = pd.concat([people, pd.DataFrame(data['results'])]).reset_index()\n",
    "\n",
    "response = requests.get(data['next'])\n",
    "data = response.json()\n",
    "people = pd.concat([people, pd.DataFrame(data['results'])]).reset_index()\n",
    "\n",
    "response = requests.get(data['next'])\n",
    "data = response.json()\n",
    "people = pd.concat([people, pd.DataFrame(data['results'])]).reset_index()\n",
    "\n",
    "response = requests.get(data['next'])\n",
    "data = response.json()\n",
    "people = pd.concat([people, pd.DataFrame(data['results'])]).reset_index()\n",
    "\n",
    "response = requests.get(data['next'])\n",
    "data = response.json()\n",
    "people = pd.concat([people, pd.DataFrame(data['results'])]).reset_index()\n",
    "\n",
    "response = requests.get(data['next'])\n",
    "data = response.json()\n",
    "people = pd.concat([people, pd.DataFrame(data['results'])]).reset_index()\n",
    "\n",
    "response = requests.get(data['next'])\n",
    "data = response.json()\n",
    "people = pd.concat([people, pd.DataFrame(data['results'])]).reset_index()\n",
    "\n",
    "response = requests.get(data['next'])\n",
    "data = response.json()\n",
    "people = pd.concat([people, pd.DataFrame(data['results'])]).reset_index()"
   ]
  },
  {
   "cell_type": "code",
   "execution_count": null,
   "metadata": {},
   "outputs": [
    {
     "name": "stdout",
     "output_type": "stream",
     "text": [
      "number_of_people: 82\n",
      "next_page: https://swapi.dev/api/people/?page=3\n",
      "previous_page: https://swapi.dev/api/people/?page=1\n",
      "number_of_results: 10\n",
      "max_page: 9\n"
     ]
    }
   ],
   "source": [
    "number_of_people = data['count']\n",
    "next_page = data['next']\n",
    "previous_page = data['previous']\n",
    "number_of_results = len(data['results'])\n",
    "max_page = math.ceil(number_of_people / number_of_results)\n",
    "\n",
    "print(f'number_of_people: {number_of_people}')\n",
    "print(f'next_page: {next_page}')\n",
    "print(f'previous_page: {previous_page}')\n",
    "print(f'number_of_results: {number_of_results}')\n",
    "print(f'max_page: {max_page}')"
   ]
  },
  {
   "cell_type": "markdown",
   "metadata": {},
   "source": [
    "### 2. Do the same thing, but for planets."
   ]
  },
  {
   "cell_type": "code",
   "execution_count": null,
   "metadata": {},
   "outputs": [],
   "source": []
  }
 ],
 "metadata": {
  "kernelspec": {
   "display_name": "base",
   "language": "python",
   "name": "python3"
  },
  "language_info": {
   "codemirror_mode": {
    "name": "ipython",
    "version": 3
   },
   "file_extension": ".py",
   "mimetype": "text/x-python",
   "name": "python",
   "nbconvert_exporter": "python",
   "pygments_lexer": "ipython3",
   "version": "3.11.3"
  },
  "orig_nbformat": 4
 },
 "nbformat": 4,
 "nbformat_minor": 2
}
